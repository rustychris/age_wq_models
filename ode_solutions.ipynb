{
 "cells": [
  {
   "cell_type": "code",
   "execution_count": 13,
   "metadata": {},
   "outputs": [],
   "source": [
    "from sympy import *"
   ]
  },
  {
   "cell_type": "code",
   "execution_count": 14,
   "metadata": {},
   "outputs": [],
   "source": [
    "t=symbols('t')\n",
    "c1=Symbol('c1',positive=True)\n",
    "c2=Symbol('c2',positive=True)\n",
    "k=Symbol('k',positive=True)\n",
    "A=Function('A')\n",
    "N=Function('N')"
   ]
  },
  {
   "cell_type": "code",
   "execution_count": 15,
   "metadata": {},
   "outputs": [
    {
     "data": {
      "text/latex": [
       "$\\displaystyle \\frac{d}{d t} A{\\left(t \\right)} = - c_{1} A{\\left(t \\right)}$"
      ],
      "text/plain": [
       "Eq(Derivative(A(t), t), -c1*A(t))"
      ]
     },
     "metadata": {},
     "output_type": "display_data"
    },
    {
     "data": {
      "text/latex": [
       "$\\displaystyle \\frac{d}{d t} N{\\left(t \\right)} = - c_{2} N{\\left(t \\right)} + k A{\\left(t \\right)}$"
      ],
      "text/plain": [
       "Eq(Derivative(N(t), t), -c2*N(t) + k*A(t))"
      ]
     },
     "metadata": {},
     "output_type": "display_data"
    }
   ],
   "source": [
    "eq1=Equality(diff(A(t)),-c1*A(t))\n",
    "eq2=Equality(diff(N(t)), k*A(t)-c2*N(t))\n",
    "display(eq1)\n",
    "display(eq2)"
   ]
  },
  {
   "cell_type": "code",
   "execution_count": 16,
   "metadata": {},
   "outputs": [
    {
     "data": {
      "text/latex": [
       "$\\displaystyle A{\\left(t \\right)} = A_{0} e^{- c_{1} t}$"
      ],
      "text/plain": [
       "Eq(A(t), A0*exp(-c1*t))"
      ]
     },
     "execution_count": 16,
     "metadata": {},
     "output_type": "execute_result"
    }
   ],
   "source": [
    "A0,N0=symbols('A0 N0') # initial concentrations\n",
    "Asoln=dsolve(eq1,A(t),ics={A(0):A0})\n",
    "Asoln"
   ]
  },
  {
   "cell_type": "code",
   "execution_count": 17,
   "metadata": {},
   "outputs": [
    {
     "data": {
      "text/latex": [
       "$\\displaystyle N{\\left(t \\right)} = \\left(A_{0} k \\left(\\begin{cases} - \\frac{e^{c_{2} t}}{c_{1} e^{c_{1} t} - c_{2} e^{c_{1} t}} & \\text{for}\\: c_{1} \\neq c_{2} \\\\t & \\text{otherwise} \\end{cases}\\right) + \\begin{cases} \\frac{A_{0} k + N_{0} \\left(c_{1} - c_{2}\\right)}{c_{1} - c_{2}} & \\text{for}\\: c_{1} \\neq c_{2} \\\\N_{0} & \\text{otherwise} \\end{cases}\\right) e^{- c_{2} t}$"
      ],
      "text/plain": [
       "Eq(N(t), (A0*k*Piecewise((-exp(c2*t)/(c1*exp(c1*t) - c2*exp(c1*t)), Ne(c1, c2)), (t, True)) + Piecewise(((A0*k + N0*(c1 - c2))/(c1 - c2), Ne(c1, c2)), (N0, True)))*exp(-c2*t))"
      ]
     },
     "execution_count": 17,
     "metadata": {},
     "output_type": "execute_result"
    }
   ],
   "source": [
    "Nsoln=dsolve(eq2.subs(A(t),Asoln.rhs),N(t),ics={N(0):N0})\n",
    "#Nsoln.simplify()\n",
    "Nsoln"
   ]
  },
  {
   "cell_type": "code",
   "execution_count": 18,
   "metadata": {},
   "outputs": [
    {
     "data": {
      "text/latex": [
       "$\\displaystyle N{\\left(t \\right)} = \\begin{cases} \\frac{\\left(- A_{0} k + \\left(A_{0} k + N_{0} \\left(c_{1} - c_{2}\\right)\\right) e^{t \\left(c_{1} - c_{2}\\right)}\\right) e^{- c_{1} t}}{c_{1} - c_{2}} & \\text{for}\\: c_{1} \\neq c_{2} \\\\\\left(A_{0} k t + N_{0}\\right) e^{- c_{2} t} & \\text{otherwise} \\end{cases}$"
      ],
      "text/plain": [
       "Eq(N(t), Piecewise(((-A0*k + (A0*k + N0*(c1 - c2))*exp(t*(c1 - c2)))*exp(-c1*t)/(c1 - c2), Ne(c1, c2)), ((A0*k*t + N0)*exp(-c2*t), True)))"
      ]
     },
     "execution_count": 18,
     "metadata": {},
     "output_type": "execute_result"
    }
   ],
   "source": [
    "Nsoln.simplify() "
   ]
  },
  {
   "cell_type": "markdown",
   "metadata": {},
   "source": [
    "With Zeroth Order source\n",
    "==\n"
   ]
  },
  {
   "cell_type": "code",
   "execution_count": 19,
   "metadata": {},
   "outputs": [
    {
     "data": {
      "text/latex": [
       "$\\displaystyle \\frac{d}{d t} A{\\left(t \\right)} = - c_{1} A{\\left(t \\right)} + s_{a}$"
      ],
      "text/plain": [
       "Eq(Derivative(A(t), t), -c1*A(t) + s_a)"
      ]
     },
     "metadata": {},
     "output_type": "display_data"
    },
    {
     "data": {
      "text/latex": [
       "$\\displaystyle \\frac{d}{d t} N{\\left(t \\right)} = - c_{2} N{\\left(t \\right)} + k A{\\left(t \\right)}$"
      ],
      "text/plain": [
       "Eq(Derivative(N(t), t), -c2*N(t) + k*A(t))"
      ]
     },
     "metadata": {},
     "output_type": "display_data"
    }
   ],
   "source": [
    "# Additionally need s_a, a zeroth order NH4 source, and s_n\n",
    "# a zeroth order NO3 source.\n",
    "src_a,src_n = symbols('s_a s_n')\n",
    "eq1=Equality(diff(A(t)),-c1*A(t) + src_a)\n",
    "eq2=Equality(diff(N(t)), k*A(t)-c2*N(t) + src_n).subs(src_n,0)\n",
    "display(eq1)\n",
    "display(eq2)"
   ]
  },
  {
   "cell_type": "code",
   "execution_count": 10,
   "metadata": {},
   "outputs": [
    {
     "data": {
      "text/latex": [
       "$\\displaystyle A{\\left(t \\right)} = \\frac{s_{a} + e^{c_{1} \\left(- t + \\frac{\\log{\\left(A_{0} c_{1} - s_{a} \\right)}}{c_{1}}\\right)}}{c_{1}}$"
      ],
      "text/plain": [
       "Eq(A(t), (s_a + exp(c1*(-t + log(A0*c1 - s_a)/c1)))/c1)"
      ]
     },
     "execution_count": 10,
     "metadata": {},
     "output_type": "execute_result"
    }
   ],
   "source": [
    "A0,N0=symbols('A0 N0') # initial concentrations\n",
    "Asoln=dsolve(eq1,A(t),ics={A(0):A0})\n",
    "Asoln"
   ]
  },
  {
   "cell_type": "code",
   "execution_count": 20,
   "metadata": {},
   "outputs": [
    {
     "data": {
      "text/latex": [
       "$\\displaystyle A{\\left(t \\right)} = A_{0} e^{- c_{1} t} + \\frac{s_{a}}{c_{1}} - \\frac{s_{a} e^{- c_{1} t}}{c_{1}}$"
      ],
      "text/plain": [
       "Eq(A(t), A0*exp(-c1*t) + s_a/c1 - s_a*exp(-c1*t)/c1)"
      ]
     },
     "execution_count": 20,
     "metadata": {},
     "output_type": "execute_result"
    }
   ],
   "source": [
    "Asoln.simplify().expand()"
   ]
  },
  {
   "cell_type": "markdown",
   "metadata": {},
   "source": [
    "Wolfram Alpha, given\n",
    "```\n",
    "  da/dt = -s1 * a + s2\n",
    "```  \n",
    "returns\n",
    "$$a(t) = C_1 e^{-s1 t} + s2/s1$$\n",
    "or substituting my variables,\n",
    "$$A(t) = C_1 e^{-c_1 t} + \\frac{s_a}{c_1} $$"
   ]
  },
  {
   "cell_type": "code",
   "execution_count": 24,
   "metadata": {},
   "outputs": [
    {
     "data": {
      "text/latex": [
       "$\\displaystyle A{\\left(t \\right)} = \\left(A_{0} - \\frac{s_{a}}{c_{1}}\\right) e^{- c_{1} t} + \\frac{s_{a}}{c_{1}}$"
      ],
      "text/plain": [
       "Eq(A(t), (A0 - s_a/c1)*exp(-c1*t) + s_a/c1)"
      ]
     },
     "execution_count": 24,
     "metadata": {},
     "output_type": "execute_result"
    }
   ],
   "source": [
    "# So I could rewrite this in the slightly nicer form:\n",
    "Asoln=Equality(A(t),(A0-src_a/c1)*E**(-c1*t) + src_a/c1)\n",
    "Asoln"
   ]
  },
  {
   "cell_type": "code",
   "execution_count": 28,
   "metadata": {},
   "outputs": [
    {
     "data": {
      "text/latex": [
       "$\\displaystyle \\frac{d}{d t} N{\\left(t \\right)} = - c_{2} N{\\left(t \\right)} + k \\left(\\left(A_{0} - \\frac{s_{a}}{c_{1}}\\right) e^{- c_{1} t} + \\frac{s_{a}}{c_{1}}\\right)$"
      ],
      "text/plain": [
       "Eq(Derivative(N(t), t), -c2*N(t) + k*((A0 - s_a/c1)*exp(-c1*t) + s_a/c1))"
      ]
     },
     "execution_count": 28,
     "metadata": {},
     "output_type": "execute_result"
    }
   ],
   "source": [
    "Neq=eq2.subs(A(t),Asoln.rhs)\n",
    "Neq"
   ]
  },
  {
   "cell_type": "code",
   "execution_count": 25,
   "metadata": {},
   "outputs": [
    {
     "data": {
      "text/latex": [
       "$\\displaystyle N{\\left(t \\right)} = \\left(\\begin{cases} \\frac{N_{0} c_{2} \\left(c_{1} - c_{2}\\right) + k \\left(A_{0} c_{2} - s_{a}\\right)}{c_{2} \\left(c_{1} - c_{2}\\right)} & \\text{for}\\: c_{1} \\neq c_{2} \\\\N_{0} - \\frac{k s_{a}}{c_{1} c_{2}} & \\text{otherwise} \\end{cases} + \\frac{\\begin{cases} - \\frac{A_{0} c_{1} c_{2} k e^{c_{2} t}}{c_{1} c_{2} e^{c_{1} t} - c_{2}^{2} e^{c_{1} t}} + \\frac{c_{1} k s_{a} e^{c_{1} t} e^{c_{2} t}}{c_{1} c_{2} e^{c_{1} t} - c_{2}^{2} e^{c_{1} t}} - \\frac{c_{2} k s_{a} e^{c_{1} t} e^{c_{2} t}}{c_{1} c_{2} e^{c_{1} t} - c_{2}^{2} e^{c_{1} t}} + \\frac{c_{2} k s_{a} e^{c_{2} t}}{c_{1} c_{2} e^{c_{1} t} - c_{2}^{2} e^{c_{1} t}} & \\text{for}\\: c_{1} \\neq c_{2} \\\\A_{0} c_{2} k t - k s_{a} t + \\frac{k s_{a} e^{c_{2} t}}{c_{2}} & \\text{otherwise} \\end{cases}}{c_{1}}\\right) e^{- c_{2} t}$"
      ],
      "text/plain": [
       "Eq(N(t), (Piecewise(((N0*c2*(c1 - c2) + k*(A0*c2 - s_a))/(c2*(c1 - c2)), Ne(c1, c2)), (N0 - k*s_a/(c1*c2), True)) + Piecewise((-A0*c1*c2*k*exp(c2*t)/(c1*c2*exp(c1*t) - c2**2*exp(c1*t)) + c1*k*s_a*exp(c1*t)*exp(c2*t)/(c1*c2*exp(c1*t) - c2**2*exp(c1*t)) - c2*k*s_a*exp(c1*t)*exp(c2*t)/(c1*c2*exp(c1*t) - c2**2*exp(c1*t)) + c2*k*s_a*exp(c2*t)/(c1*c2*exp(c1*t) - c2**2*exp(c1*t)), Ne(c1, c2)), (A0*c2*k*t - k*s_a*t + k*s_a*exp(c2*t)/c2, True))/c1)*exp(-c2*t))"
      ]
     },
     "execution_count": 25,
     "metadata": {},
     "output_type": "execute_result"
    }
   ],
   "source": [
    "Nsoln=dsolve(eq2.subs(A(t),Asoln.rhs.simplify()),N(t),ics={N(0):N0})\n",
    "Nsoln"
   ]
  },
  {
   "cell_type": "code",
   "execution_count": 26,
   "metadata": {},
   "outputs": [
    {
     "data": {
      "text/latex": [
       "$\\displaystyle N{\\left(t \\right)} = \\begin{cases} \\frac{\\left(c_{1} \\left(N_{0} c_{2} \\left(c_{1} - c_{2}\\right) + k \\left(A_{0} c_{2} - s_{a}\\right)\\right) e^{t \\left(c_{1} - c_{2}\\right)} - k \\left(A_{0} c_{1} c_{2} - c_{1} s_{a} e^{c_{1} t} + c_{2} s_{a} e^{c_{1} t} - c_{2} s_{a}\\right)\\right) e^{- c_{1} t}}{c_{1} c_{2} \\left(c_{1} - c_{2}\\right)} & \\text{for}\\: c_{1} \\neq c_{2} \\\\\\frac{\\left(N_{0} c_{1} c_{2} - k s_{a} + k \\left(c_{2} t \\left(A_{0} c_{2} - s_{a}\\right) + s_{a} e^{c_{2} t}\\right)\\right) e^{- c_{2} t}}{c_{1} c_{2}} & \\text{otherwise} \\end{cases}$"
      ],
      "text/plain": [
       "Eq(N(t), Piecewise(((c1*(N0*c2*(c1 - c2) + k*(A0*c2 - s_a))*exp(t*(c1 - c2)) - k*(A0*c1*c2 - c1*s_a*exp(c1*t) + c2*s_a*exp(c1*t) - c2*s_a))*exp(-c1*t)/(c1*c2*(c1 - c2)), Ne(c1, c2)), ((N0*c1*c2 - k*s_a + k*(c2*t*(A0*c2 - s_a) + s_a*exp(c2*t)))*exp(-c2*t)/(c1*c2), True)))"
      ]
     },
     "execution_count": 26,
     "metadata": {},
     "output_type": "execute_result"
    }
   ],
   "source": [
    "soln=Nsoln.simplify()\n",
    "soln"
   ]
  },
  {
   "cell_type": "code",
   "execution_count": 49,
   "metadata": {},
   "outputs": [
    {
     "data": {
      "text/latex": [
       "$\\displaystyle \\frac{\\left(c_{1} \\left(N_{0} c_{2} \\left(c_{1} - c_{2}\\right) + k \\left(A_{0} c_{2} - s_{a}\\right)\\right) e^{t \\left(c_{1} - c_{2}\\right)} - k \\left(A_{0} c_{1} c_{2} - c_{1} s_{a} e^{c_{1} t} + c_{2} s_{a} e^{c_{1} t} - c_{2} s_{a}\\right)\\right) e^{- c_{1} t}}{c_{1} c_{2} \\left(c_{1} - c_{2}\\right)}$"
      ],
      "text/plain": [
       "(c1*(N0*c2*(c1 - c2) + k*(A0*c2 - s_a))*exp(t*(c1 - c2)) - k*(A0*c1*c2 - c1*s_a*exp(c1*t) + c2*s_a*exp(c1*t) - c2*s_a))*exp(-c1*t)/(c1*c2*(c1 - c2))"
      ]
     },
     "execution_count": 49,
     "metadata": {},
     "output_type": "execute_result"
    }
   ],
   "source": [
    "Nsoln2=soln.rhs.args[0].args[0]\n",
    "Nsoln2"
   ]
  },
  {
   "cell_type": "markdown",
   "metadata": {},
   "source": [
    "Wolfram Alpha with an input of:\n",
    "```\n",
    "dn/dt = -s1 * n + s2 * exp(-s3*t) + s4\n",
    "```\n",
    "Returns \n",
    "$$ N(t) = C_1 e^{-s1 t} + \\frac{s2 e^{-s3 t}}{s1-s3} + \\frac{s4}{s1}$$\n"
   ]
  },
  {
   "cell_type": "code",
   "execution_count": 21,
   "metadata": {},
   "outputs": [
    {
     "data": {
      "text/latex": [
       "$\\displaystyle C_{1} e^{- s_{1} t} + \\frac{s_{2} e^{- s_{3} t}}{s_{1} - s_{3}} + \\frac{s_{4}}{s_{1}}$"
      ],
      "text/plain": [
       "C_1*exp(-s1*t) + s2*exp(-s3*t)/(s1 - s3) + s4/s1"
      ]
     },
     "execution_count": 21,
     "metadata": {},
     "output_type": "execute_result"
    }
   ],
   "source": [
    "C_1,s1,s2,s3,s4= symbols('C_1 s1 s2 s3 s4')\n",
    "NsolnWA=C_1 * E**(-s1 * t) + (s2 * E**(-s3*t))/(s1-s3) + s4/s1\n",
    "NsolnWA"
   ]
  },
  {
   "cell_type": "code",
   "execution_count": 53,
   "metadata": {},
   "outputs": [
    {
     "data": {
      "text/latex": [
       "$\\displaystyle N{\\left(t \\right)} = \\frac{k \\left(A_{0} - \\frac{s_{a}}{c_{1}}\\right) e^{- c_{1} t}}{- c_{1} + c_{2}} + \\frac{\\left(A_{0} c_{2} k + N_{0} c_{1} c_{2} - N_{0} c_{2}^{2} - k s_{a}\\right) e^{- c_{2} t}}{c_{2} \\left(c_{1} - c_{2}\\right)} + \\frac{k s_{a}}{c_{1} c_{2}}$"
      ],
      "text/plain": [
       "Eq(N(t), k*(A0 - s_a/c1)*exp(-c1*t)/(-c1 + c2) + (A0*c2*k + N0*c1*c2 - N0*c2**2 - k*s_a)*exp(-c2*t)/(c2*(c1 - c2)) + k*s_a/(c1*c2))"
      ]
     },
     "execution_count": 53,
     "metadata": {},
     "output_type": "execute_result"
    }
   ],
   "source": [
    "# And sub back in what all those things really area:\n",
    "NsolnWA2=NsolnWA.subs(s1,c2).subs(s2,k*(A0-src_a/c1)).subs(s3,c1).subs(s4,k*src_a/c1)\n",
    "C_1_value=solve(NsolnWA2.subs(t,0)-N0,C_1)[0]\n",
    "NsolnWA3=NsolnWA2.subs(C_1,C_1_value)\n",
    "Equality(N(t),NsolnWA3)"
   ]
  },
  {
   "cell_type": "code",
   "execution_count": 52,
   "metadata": {},
   "outputs": [
    {
     "data": {
      "text/latex": [
       "$\\displaystyle 0$"
      ],
      "text/plain": [
       "0"
      ]
     },
     "execution_count": 52,
     "metadata": {},
     "output_type": "execute_result"
    }
   ],
   "source": [
    "# verify it's the same.\n",
    "(NsolnWA3 - Nsoln2).expand().simplify()"
   ]
  },
  {
   "cell_type": "code",
   "execution_count": 22,
   "metadata": {},
   "outputs": [
    {
     "data": {
      "text/latex": [
       "$\\displaystyle N{\\left(t \\right)} = \\frac{k \\left(A_{0} - \\frac{s_{a}}{c_{1}}\\right) e^{- c_{1} t}}{- c_{1} + c_{2}} + \\frac{s_{n} + \\frac{k s_{a}}{c_{1}}}{c_{2}} + \\frac{\\left(A_{0} c_{2} k + N_{0} c_{1} c_{2} - N_{0} c_{2}^{2} - c_{1} s_{n} + c_{2} s_{n} - k s_{a}\\right) e^{- c_{2} t}}{c_{2} \\left(c_{1} - c_{2}\\right)}$"
      ],
      "text/plain": [
       "Eq(N(t), k*(A0 - s_a/c1)*exp(-c1*t)/(-c1 + c2) + (s_n + k*s_a/c1)/c2 + (A0*c2*k + N0*c1*c2 - N0*c2**2 - c1*s_n + c2*s_n - k*s_a)*exp(-c2*t)/(c2*(c1 - c2)))"
      ]
     },
     "execution_count": 22,
     "metadata": {},
     "output_type": "execute_result"
    }
   ],
   "source": [
    "# The ammonium zeroth order source already generates a zeroth order\n",
    "# nitrate source term, s4\n",
    "# \n",
    "# And sub back in what all those things really area:\n",
    "NsolnWA4=NsolnWA.subs(s1,c2).subs(s2,k*(A0-src_a/c1)).subs(s3,c1).subs(s4,k*src_a/c1+src_n)\n",
    "C_1_value=solve(NsolnWA4.subs(t,0)-N0,C_1)[0]\n",
    "NsolnWA5=NsolnWA4.subs(C_1,C_1_value)\n",
    "Equality(N(t),NsolnWA5)"
   ]
  }
 ],
 "metadata": {
  "kernelspec": {
   "display_name": "Python 3",
   "language": "python",
   "name": "python3"
  },
  "language_info": {
   "codemirror_mode": {
    "name": "ipython",
    "version": 3
   },
   "file_extension": ".py",
   "mimetype": "text/x-python",
   "name": "python",
   "nbconvert_exporter": "python",
   "pygments_lexer": "ipython3",
   "version": "3.7.3"
  }
 },
 "nbformat": 4,
 "nbformat_minor": 2
}
